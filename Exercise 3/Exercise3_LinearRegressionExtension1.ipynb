{
 "cells": [
  {
   "cell_type": "markdown",
   "metadata": {},
   "source": [
    "# Linear Regression\n",
    "\n",
    "## Qualitative Features & Interaction Terms\n",
    "\n",
    "### A) Use the credit data set, fit OLS linear regressio model using all the following features\n",
    "\n",
    " - Student\n",
    " - Income\n",
    " - Limit\n",
    " - Interaction term: Income*Student\n",
    " - Interaction term: Limit*Student\n",
    "\n",
    "Find the p-values of all features. Are they all helpful in predicting the response? \n"
   ]
  },
  {
   "cell_type": "code",
   "execution_count": 4,
   "metadata": {},
   "outputs": [
    {
     "name": "stdout",
     "output_type": "stream",
     "text": [
      "========================================================================================\n",
      "                           coef    std err          t      P>|t|      [0.025      0.975]\n",
      "----------------------------------------------------------------------------------------\n",
      "Intercept             -180.1602     39.337     -4.580      0.000    -257.497    -102.824\n",
      "StudentEncode         -235.2261     41.256     -5.702      0.000    -316.336    -154.117\n",
      "Income                 -10.1996      0.656    -15.551      0.000     -11.489      -8.910\n",
      "Limit                    0.3279      0.011     28.553      0.000       0.305       0.351\n",
      "Income:StudentEncode     2.5835      0.702      3.678      0.000       1.202       3.965\n",
      "Limit:StudentEncode     -0.0667      0.012     -5.515      0.000      -0.090      -0.043\n",
      "========================================================================================\n"
     ]
    }
   ],
   "source": [
    "import statsmodels.formula.api as smf\n",
    "from pandas import read_csv\n",
    "\n",
    "credit =read_csv('Credit2.csv')\n",
    "\n",
    "credit['StudentEncode'] = credit['Student'].map({'Yes':0,'No':1})\n",
    "\n",
    "model = smf.ols('Balance ~ StudentEncode + Income + Limit + Income*StudentEncode + Limit*StudentEncode',credit)\n",
    "Fitting_results = model.fit()\n",
    "print(Fitting_results.summary().tables[1])\n",
    "F = ['Student' , 'Income', 'Limit', 'Income*Student', 'Limit*Student']\n",
    "#print(Fitting_results.summary().tables[1])\n",
    "#for i in range(5):\n",
    "#    print('The P-value for {} is {}.'.format(F[i],Fitting_results.pvalues[i+1]))\n",
    "#else:\n",
    "#    print('\\nAll p-values are smaller than 0.05, so all listed features are helpful in predicting the balance.')"
   ]
  },
  {
   "cell_type": "markdown",
   "metadata": {},
   "source": [
    "### B) Find the test $R^2$ score for estimating the balance from features (Income, Limit, StudentEncode) using linear regression model. The StudentEncode is the binary feature that maps Student (yes to 1 and No to 0)\n",
    "- Hint:You can use credit.Student.map({'No':0 , 'Yes':1}) to create StudentEncode \n"
   ]
  },
  {
   "cell_type": "code",
   "execution_count": null,
   "metadata": {},
   "outputs": [],
   "source": [
    "import pandas as pd\n",
    "import numpy as np\n",
    "from sklearn.model_selection import train_test_split\n",
    "from sklearn.linear_model import LinearRegression\n",
    "from sklearn.metrics import r2_score\n",
    "\n",
    "\n",
    "credit['StudentEncode'] = credit['Student'].map({'No':0,'Yes':1}) #adding one more colomn to credit\n",
    "\n",
    "X = credit[['Income','Limit','StudentEncode']].values\n",
    "#print(X.shape) = (400,3)\n",
    "Y = credit[['Balance']]\n",
    "#print(Y.shape) = (400,1)\n",
    "\n",
    "X_train,X_test,Y_train,Y_test = train_test_split(X,Y,random_state = 0)\n",
    "\n",
    "linreg1 = LinearRegression().fit(X_train,Y_train)\n",
    "\n",
    "Y_predict = linreg1.predict(X_test)\n",
    "\n",
    "test_R_square = r2_score(Y_test,Y_predict)\n",
    "\n",
    "F= ['Income','Limit','StudentEncode']\n",
    "\n",
    "for i in range(3):\n",
    "    print('The coefficient for {} is {:.3f}\\n'.format(F[i],linreg1.coef_.reshape(3,)[i]))\n",
    "    if i == 2:\n",
    "        print('The intercept is {:.3f}\\n'.format(linreg1.intercept_[0]))\n",
    "        print('The test R^2 is: ',test_R_square)\n",
    "print(X_train)"
   ]
  },
  {
   "cell_type": "markdown",
   "metadata": {},
   "source": [
    "### C) Repeat the above question after adding to the model two interaction terms: Income * StudentEncode and Limit * StudentEncode\n",
    "\n",
    "    you can use:\n",
    "        credit['InteractionTerm1']=credit.Income*credit.StudentEncode\n",
    "        credit['InteractionTerm2']=credit.Limit*credit.StudentEncode"
   ]
  },
  {
   "cell_type": "code",
   "execution_count": null,
   "metadata": {},
   "outputs": [],
   "source": [
    "credit['InteractionTerm1']=credit.Income*credit.StudentEncode\n",
    "credit['InteractionTerm2']=credit.Limit*credit.StudentEncode\n",
    "\n",
    "X = credit[['Income','Limit','StudentEncode','InteractionTerm1','InteractionTerm2']].values\n",
    "Y = credit['Balance']\n",
    "X_train,X_test,Y_train,Y_test = train_test_split(X,Y,random_state = 0)\n",
    "\n",
    "linreg2 = LinearRegression().fit(X_train,Y_train)\n",
    "\n",
    "Y_predict = linreg2.predict(X_test)\n",
    "\n",
    "F2 = ['Income','Limit','StudentEncode','Income StudentEncode','Limit StudentEncode']\n",
    "\n",
    "\n",
    "for i in range (5):\n",
    "    print('The coefficient for {} is {:.3f}\\n'.format(F2[i],linreg2.coef_[i]))\n",
    "    if i == 4:\n",
    "        print('The intercept is {:.3f}\\n'.format(linreg2.intercept_))\n",
    "        print('The test R^2 is: ',r2_score(Y_test,Y_predict))"
   ]
  },
  {
   "cell_type": "code",
   "execution_count": null,
   "metadata": {},
   "outputs": [],
   "source": []
  }
 ],
 "metadata": {
  "kernelspec": {
   "display_name": "Python 3",
   "language": "python",
   "name": "python3"
  },
  "language_info": {
   "codemirror_mode": {
    "name": "ipython",
    "version": 3
   },
   "file_extension": ".py",
   "mimetype": "text/x-python",
   "name": "python",
   "nbconvert_exporter": "python",
   "pygments_lexer": "ipython3",
   "version": "3.6.5"
  }
 },
 "nbformat": 4,
 "nbformat_minor": 2
}
