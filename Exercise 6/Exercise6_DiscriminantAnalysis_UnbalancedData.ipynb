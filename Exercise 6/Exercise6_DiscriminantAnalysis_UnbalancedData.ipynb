{
 "cells": [
  {
   "cell_type": "markdown",
   "metadata": {},
   "source": [
    "## Exercise: Discriminant Analysis and Unbalanced Datasets\n",
    "\n",
    "\n",
    "In this exercise, we will use the handwritten digits data set of Scikit-learn (load_digits). Run the code below. Read the description of the data set and check a sample image. \n"
   ]
  },
  {
   "cell_type": "code",
   "execution_count": 1,
   "metadata": {},
   "outputs": [
    {
     "name": "stdout",
     "output_type": "stream",
     "text": [
      "dict_keys(['data', 'target', 'target_names', 'images', 'DESCR'])\n",
      "Optical Recognition of Handwritten Digits Data Set\n",
      "===================================================\n",
      "\n",
      "Notes\n",
      "-----\n",
      "Data Set Characteristics:\n",
      "    :Number of Instances: 5620\n",
      "    :Number of Attributes: 64\n",
      "    :Attribute Information: 8x8 image of integer pixels in the range 0..16.\n",
      "    :Missing Attribute Values: None\n",
      "    :Creator: E. Alpaydin (alpaydin '@' boun.edu.tr)\n",
      "    :Date: July; 1998\n",
      "\n",
      "This is a copy of the test set of the UCI ML hand-written digits datasets\n",
      "http://archive.ics.uci.edu/ml/datasets/Optical+Recognition+of+Handwritten+Digits\n",
      "\n",
      "The data set contains images of hand-written digits: 10 classes where\n",
      "each class refers to a digit.\n",
      "\n",
      "Preprocessing programs made available by NIST were used to extract\n",
      "normalized bitmaps of handwritten digits from a preprinted form. From a\n",
      "total of 43 people, 30 contributed to the training set and different 13\n",
      "to the test set. 32x32 bitmaps are divided into nonoverlapping blocks of\n",
      "4x4 and the number of on pixels are counted in each block. This generates\n",
      "an input matrix of 8x8 where each element is an integer in the range\n",
      "0..16. This reduces dimensionality and gives invariance to small\n",
      "distortions.\n",
      "\n",
      "For info on NIST preprocessing routines, see M. D. Garris, J. L. Blue, G.\n",
      "T. Candela, D. L. Dimmick, J. Geist, P. J. Grother, S. A. Janet, and C.\n",
      "L. Wilson, NIST Form-Based Handprint Recognition System, NISTIR 5469,\n",
      "1994.\n",
      "\n",
      "References\n",
      "----------\n",
      "  - C. Kaynak (1995) Methods of Combining Multiple Classifiers and Their\n",
      "    Applications to Handwritten Digit Recognition, MSc Thesis, Institute of\n",
      "    Graduate Studies in Science and Engineering, Bogazici University.\n",
      "  - E. Alpaydin, C. Kaynak (1998) Cascading Classifiers, Kybernetika.\n",
      "  - Ken Tang and Ponnuthurai N. Suganthan and Xi Yao and A. Kai Qin.\n",
      "    Linear dimensionalityreduction using relevance weighted LDA. School of\n",
      "    Electrical and Electronic Engineering Nanyang Technological University.\n",
      "    2005.\n",
      "  - Claudio Gentile. A New Approximate Maximal Margin Classification\n",
      "    Algorithm. NIPS. 2000.\n",
      "\n",
      "[ 0.  0.  0. 12. 13.  5.  0.  0.  0.  0.  0. 11. 16.  9.  0.  0.  0.  0.\n",
      "  3. 15. 16.  6.  0.  0.  0.  7. 15. 16. 16.  2.  0.  0.  0.  0.  1. 16.\n",
      " 16.  3.  0.  0.  0.  0.  1. 16. 16.  6.  0.  0.  0.  0.  1. 16. 16.  6.\n",
      "  0.  0.  0.  0.  0. 11. 16. 10.  0.  0.]\n"
     ]
    },
    {
     "data": {
      "text/plain": [
       "<Figure size 432x288 with 0 Axes>"
      ]
     },
     "metadata": {},
     "output_type": "display_data"
    },
    {
     "data": {
      "image/png": "[encoded data removed]",
      "text/plain": [
       "<Figure size 288x288 with 1 Axes>"
      ]
     },
     "metadata": {},
     "output_type": "display_data"
    }
   ],
   "source": [
    "%matplotlib inline\n",
    "import matplotlib.pyplot as plt\n",
    "from sklearn.datasets import load_digits\n",
    "import matplotlib.pyplot as plt \n",
    "from sklearn.discriminant_analysis import LinearDiscriminantAnalysis\n",
    "from sklearn.discriminant_analysis import QuadraticDiscriminantAnalysis\n",
    "from sklearn.model_selection import train_test_split\n",
    "from sklearn.metrics import confusion_matrix, precision_score, recall_score\n",
    "from sklearn.model_selection import cross_val_score\n",
    "import numpy as np\n",
    "\n",
    "\n",
    "DigitsData=load_digits()\n",
    "print(DigitsData.keys()) \n",
    "print(DigitsData.DESCR) #read description of the dataset\n",
    "print(DigitsData.data[1])\n",
    "\n",
    "#plot one of the images in the data\n",
    "plt.gray() \n",
    "plt.matshow(DigitsData.images[1]) \n",
    "plt.show() "
   ]
  },
  {
   "cell_type": "markdown",
   "metadata": {},
   "source": [
    "#### A) Our objective is to build classfiers that identify digit 9. For this purpose, answer the following (3pts):\n",
    "\n",
    "1) Define the target value to be equal to 1 (or True) only for digit 9, and 0 (or False) otherwise.\n",
    "You can define: y= (DigitsData.target == 9)\n",
    "\n",
    "\n",
    "- Find how many times y is equal to 9 and how many times it is not equal to 9\n",
    "\n",
    "You can use: print(sum(y==True)); print(sum(y==False))\n",
    "\n",
    "\n",
    "COMMENT: what do you observe? Is the dataset for this classification problem balanced or not?"
   ]
  },
  {
   "cell_type": "code",
   "execution_count": 2,
   "metadata": {},
   "outputs": [
    {
     "name": "stdout",
     "output_type": "stream",
     "text": [
      "Number 9 appears 180 times, while other numbers appear 1617 times.\n",
      "So data is Skewed.\n"
     ]
    },
    {
     "data": {
      "text/plain": [
       "(1797,)"
      ]
     },
     "execution_count": 2,
     "metadata": {},
     "output_type": "execute_result"
    }
   ],
   "source": [
    "y = (DigitsData.target == 9)\n",
    "True_num = sum(y==True)\n",
    "False_num = sum(y==False)\n",
    "print('Number 9 appears {} times, while other numbers appear {} times.'.format(True_num,False_num))\n",
    "print('So data is Skewed.')\n",
    "y.shape"
   ]
  },
  {
   "cell_type": "code",
   "execution_count": 3,
   "metadata": {},
   "outputs": [],
   "source": [
    "#Y = []\n",
    "#for i in range(len(y) - 1):\n",
    "#    if DigitsData['target'][i] == 9:\n",
    "#        Y.append(1)\n",
    "#    else:\n",
    "#        Y.append(0)\n",
    "#Y = np.array(Y)\n",
    "#Y.shape"
   ]
  },
  {
   "cell_type": "markdown",
   "metadata": {},
   "source": [
    "#### B) Find the accuracy of a dummy classifier (imported below) that always selects the majority class. Use the DigitsData.data as features and y (defined above) as the response. (3pts)\n",
    "\n",
    "     - Use train_test_split with random_state= 0 for splitting the data\n",
    "     - Select dummy classifier with \"most frequent\" strategy as follows: \n",
    "         - dummy_majority=DummyClassifier(strategy='most_frequent')\n"
   ]
  },
  {
   "cell_type": "code",
   "execution_count": 4,
   "metadata": {},
   "outputs": [
    {
     "name": "stdout",
     "output_type": "stream",
     "text": [
      "The accuracy of the dummy classifier is 89.755%.\n"
     ]
    }
   ],
   "source": [
    "# write your code here\n",
    "from sklearn.dummy import DummyClassifier\n",
    "x_train,x_test,y_train,y_test = train_test_split (DigitsData.data, y,random_state = 0)\n",
    "dummy_majority = DummyClassifier(strategy = 'most_frequent').fit(x_train,y_train)\n",
    "y_predict = dummy_majority.predict(x_test)\n",
    "\n",
    "S = []\n",
    "for i in range(len(y_predict) - 1):\n",
    "    if y_test[i] == y_predict[i]:\n",
    "        S.append(1)\n",
    "    else:\n",
    "        S.append(0)\n",
    "Accuracy_1 = sum(S)/len(S)\n",
    "\n",
    "print('The accuracy of the dummy classifier is {:.3f}%.'.format(Accuracy_1*100))"
   ]
  },
  {
   "cell_type": "markdown",
   "metadata": {},
   "source": [
    "#### C) Instead of a dummy classifier, use an LDA classifer (with default threshold) to solve the above classification problem. Find accuracy, confusion matrix, precision, and recall. (5pts)\n",
    "\n",
    "- Note: you may get a warning that features are correlated (collinear). However, we can still get the performance metrics as usual"
   ]
  },
  {
   "cell_type": "code",
   "execution_count": 5,
   "metadata": {},
   "outputs": [
    {
     "name": "stdout",
     "output_type": "stream",
     "text": [
      "The accuracy of the LDA classifier is 96.437%.\n",
      "[[394   9]\n",
      " [  7  40]]\n",
      "The precision is 0.8163265306122449\n",
      "The recall is 0.851063829787234\n"
     ]
    },
    {
     "name": "stderr",
     "output_type": "stream",
     "text": [
      "D:\\Anaconda3\\lib\\site-packages\\sklearn\\discriminant_analysis.py:388: UserWarning: Variables are collinear.\n",
      "  warnings.warn(\"Variables are collinear.\")\n"
     ]
    }
   ],
   "source": [
    "LDAmodelFitted = LinearDiscriminantAnalysis().fit(x_train,y_train)\n",
    "LDA_predict = LDAmodelFitted.predict(x_test)\n",
    "\n",
    "S = []\n",
    "for i in range(len(LDA_predict) - 1):\n",
    "    if y_test[i] == LDA_predict[i]:\n",
    "        S.append(1)\n",
    "    else:\n",
    "        S.append(0)\n",
    "Accuracy_2 = sum(S)/len(S)\n",
    "print('The accuracy of the LDA classifier is {:.3f}%.'.format(Accuracy_2*100))\n",
    "\n",
    "confusion_LDA = confusion_matrix(y_test, LDA_predict)\n",
    "print(confusion_LDA)\n",
    "print('The precision is',precision_score(y_test, LDA_predict))\n",
    "print('The recall is',recall_score(y_test,LDA_predict))"
   ]
  },
  {
   "cell_type": "markdown",
   "metadata": {},
   "source": [
    "#### D) Use QDA classifer to perform the classification. Find accuracy, confusion matrix, precision, and recall. (5pts)\n",
    "- Note: expect to see a warning that features are correlated (collinear). You can still get performance metrics."
   ]
  },
  {
   "cell_type": "code",
   "execution_count": 6,
   "metadata": {
    "scrolled": true
   },
   "outputs": [
    {
     "name": "stdout",
     "output_type": "stream",
     "text": [
      "The accuracy of the QDA classifier is 66.147%.\n",
      "[[252 151]\n",
      " [  1  46]]\n",
      "The precision is 0.233502538071066\n",
      "The recall is 0.9787234042553191\n"
     ]
    },
    {
     "name": "stderr",
     "output_type": "stream",
     "text": [
      "D:\\Anaconda3\\lib\\site-packages\\sklearn\\discriminant_analysis.py:682: UserWarning: Variables are collinear\n",
      "  warnings.warn(\"Variables are collinear\")\n"
     ]
    }
   ],
   "source": [
    "QDAmodelFitted = QuadraticDiscriminantAnalysis().fit(x_train,y_train)\n",
    "QDA_predict = QDAmodelFitted.predict(x_test)\n",
    "\n",
    "S = []\n",
    "for i in range(len(QDA_predict) - 1):\n",
    "    if y_test[i] == QDA_predict[i]:\n",
    "        S.append(1)\n",
    "    else:\n",
    "        S.append(0)\n",
    "Accuracy_3 = sum(S)/len(S)\n",
    "\n",
    "print('The accuracy of the QDA classifier is {:.3f}%.'.format(Accuracy_3*100))\n",
    "confusion_QDA = confusion_matrix(y_test, QDA_predict)\n",
    "print(confusion_QDA)\n",
    "print('The precision is', precision_score(y_test, QDA_predict))\n",
    "print('The recall is', recall_score(y_test,QDA_predict))"
   ]
  },
  {
   "cell_type": "code",
   "execution_count": null,
   "metadata": {},
   "outputs": [],
   "source": []
  },
  {
   "cell_type": "markdown",
   "metadata": {},
   "source": [
    "#### E) From the prediction of the QDA, plot the ROC curve. (4pts)"
   ]
  },
  {
   "cell_type": "code",
   "execution_count": 7,
   "metadata": {},
   "outputs": [],
   "source": [
    "from sklearn.metrics import roc_curve\n",
    "FalsePositive,TruePositive,thresholds = roc_curve(y_test,QDAmodelFitted.predict_proba(x_test)[:,1])"
   ]
  },
  {
   "cell_type": "code",
   "execution_count": 8,
   "metadata": {},
   "outputs": [
    {
     "data": {
      "text/plain": [
       "Text(0,0.5,'True Positive Rate')"
      ]
     },
     "execution_count": 8,
     "metadata": {},
     "output_type": "execute_result"
    },
    {
     "data": {
      "image/png": "[encoded data removed]",
      "text/plain": [
       "<Figure size 432x288 with 1 Axes>"
      ]
     },
     "metadata": {},
     "output_type": "display_data"
    }
   ],
   "source": [
    "plt.plot(FalsePositive,TruePositive)\n",
    "plt.title('ROC curve for QDA Model')\n",
    "plt.xlabel('False Positive Rate')\n",
    "plt.ylabel('True Positive Rate')"
   ]
  },
  {
   "cell_type": "code",
   "execution_count": null,
   "metadata": {},
   "outputs": [],
   "source": []
  },
  {
   "cell_type": "code",
   "execution_count": null,
   "metadata": {},
   "outputs": [],
   "source": []
  }
 ],
 "metadata": {
  "kernelspec": {
   "display_name": "Python 3",
   "language": "python",
   "name": "python3"
  },
  "language_info": {
   "codemirror_mode": {
    "name": "ipython",
    "version": 3
   },
   "file_extension": ".py",
   "mimetype": "text/x-python",
   "name": "python",
   "nbconvert_exporter": "python",
   "pygments_lexer": "ipython3",
   "version": "3.6.5"
  }
 },
 "nbformat": 4,
 "nbformat_minor": 2
}
